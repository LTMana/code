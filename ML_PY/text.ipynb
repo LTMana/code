{
 "cells": [
  {
   "cell_type": "code",
   "execution_count": 1,
   "metadata": {
    "collapsed": false
   },
   "outputs": [
    {
     "name": "stdout",
     "output_type": "stream",
     "text": [
      "hello world\n"
     ]
    }
   ],
   "source": [
    "print 'hello world'"
   ]
  },
  {
   "cell_type": "markdown",
   "metadata": {},
   "source": [
    "# method in python"
   ]
  },
  {
   "cell_type": "code",
   "execution_count": 7,
   "metadata": {
    "collapsed": true
   },
   "outputs": [],
   "source": [
    "def add2(x):\n",
    "    y = x + 2\n",
    "    return y"
   ]
  },
  {
   "cell_type": "code",
   "execution_count": 8,
   "metadata": {
    "collapsed": true
   },
   "outputs": [],
   "source": [
    "i = 5"
   ]
  },
  {
   "cell_type": "code",
   "execution_count": 4,
   "metadata": {
    "collapsed": false
   },
   "outputs": [
    {
     "data": {
      "text/plain": [
       "7"
      ]
     },
     "execution_count": 4,
     "metadata": {},
     "output_type": "execute_result"
    }
   ],
   "source": [
    "add2(i)"
   ]
  },
  {
   "cell_type": "code",
   "execution_count": 5,
   "metadata": {
    "collapsed": true
   },
   "outputs": [],
   "source": [
    "square = lambda x : x*x"
   ]
  },
  {
   "cell_type": "code",
   "execution_count": 6,
   "metadata": {
    "collapsed": false
   },
   "outputs": [
    {
     "data": {
      "text/plain": [
       "9"
      ]
     },
     "execution_count": 6,
     "metadata": {},
     "output_type": "execute_result"
    }
   ],
   "source": [
    "square(3)"
   ]
  },
  {
   "cell_type": "markdown",
   "metadata": {},
   "source": [
    "# 使用GraphLab Create"
   ]
  },
  {
   "cell_type": "code",
   "execution_count": 2,
   "metadata": {
    "collapsed": true
   },
   "outputs": [],
   "source": [
    "import graphlab"
   ]
  },
  {
   "cell_type": "code",
   "execution_count": 10,
   "metadata": {
    "collapsed": false
   },
   "outputs": [
    {
     "data": {
      "text/html": [
       "<pre>Finished parsing file /Users/liubotong/Desktop/GitProject/code/ML_PY/board.csv</pre>"
      ],
      "text/plain": [
       "Finished parsing file /Users/liubotong/Desktop/GitProject/code/ML_PY/board.csv"
      ]
     },
     "metadata": {},
     "output_type": "display_data"
    },
    {
     "data": {
      "text/html": [
       "<pre>Parsing completed. Parsed 100 lines in 0.013068 secs.</pre>"
      ],
      "text/plain": [
       "Parsing completed. Parsed 100 lines in 0.013068 secs."
      ]
     },
     "metadata": {},
     "output_type": "display_data"
    },
    {
     "name": "stdout",
     "output_type": "stream",
     "text": [
      "------------------------------------------------------\n",
      "Inferred types from first 100 line(s) of file as \n",
      "column_type_hints=[int,str,str,float,float,float,float]\n",
      "If parsing fails due to incorrect types, you can correct\n",
      "the inferred type list above and pass it to read_csv in\n",
      "the column_type_hints argument\n",
      "------------------------------------------------------\n"
     ]
    },
    {
     "data": {
      "text/html": [
       "<pre>Finished parsing file /Users/liubotong/Desktop/GitProject/code/ML_PY/board.csv</pre>"
      ],
      "text/plain": [
       "Finished parsing file /Users/liubotong/Desktop/GitProject/code/ML_PY/board.csv"
      ]
     },
     "metadata": {},
     "output_type": "display_data"
    },
    {
     "data": {
      "text/html": [
       "<pre>Parsing completed. Parsed 942 lines in 0.015914 secs.</pre>"
      ],
      "text/plain": [
       "Parsing completed. Parsed 942 lines in 0.015914 secs."
      ]
     },
     "metadata": {},
     "output_type": "display_data"
    }
   ],
   "source": [
    "sf = graphlab.SFrame('board.csv')"
   ]
  },
  {
   "cell_type": "code",
   "execution_count": 11,
   "metadata": {
    "collapsed": false
   },
   "outputs": [
    {
     "data": {
      "text/html": [
       "<div style=\"max-height:1000px;max-width:1500px;overflow:auto;\"><table frame=\"box\" rules=\"cols\">\n",
       "    <tr>\n",
       "        <th style=\"padding-left: 1em; padding-right: 1em; text-align: center\">CityCode</th>\n",
       "        <th style=\"padding-left: 1em; padding-right: 1em; text-align: center\">BoardId</th>\n",
       "        <th style=\"padding-left: 1em; padding-right: 1em; text-align: center\">RoadName</th>\n",
       "        <th style=\"padding-left: 1em; padding-right: 1em; text-align: center\">StartLon</th>\n",
       "        <th style=\"padding-left: 1em; padding-right: 1em; text-align: center\">StartLat</th>\n",
       "        <th style=\"padding-left: 1em; padding-right: 1em; text-align: center\">EndLon</th>\n",
       "        <th style=\"padding-left: 1em; padding-right: 1em; text-align: center\">EndLat</th>\n",
       "    </tr>\n",
       "    <tr>\n",
       "        <td style=\"padding-left: 1em; padding-right: 1em; text-align: center; vertical-align: top\">110000</td>\n",
       "        <td style=\"padding-left: 1em; padding-right: 1em; text-align: center; vertical-align: top\">0010_103_001</td>\n",
       "        <td style=\"padding-left: 1em; padding-right: 1em; text-align: center; vertical-align: top\">北京城市内快速路</td>\n",
       "        <td style=\"padding-left: 1em; padding-right: 1em; text-align: center; vertical-align: top\">116.570446</td>\n",
       "        <td style=\"padding-left: 1em; padding-right: 1em; text-align: center; vertical-align: top\">40.041606</td>\n",
       "        <td style=\"padding-left: 1em; padding-right: 1em; text-align: center; vertical-align: top\">116.175351</td>\n",
       "        <td style=\"padding-left: 1em; padding-right: 1em; text-align: center; vertical-align: top\">39.753424</td>\n",
       "    </tr>\n",
       "    <tr>\n",
       "        <td style=\"padding-left: 1em; padding-right: 1em; text-align: center; vertical-align: top\">110000</td>\n",
       "        <td style=\"padding-left: 1em; padding-right: 1em; text-align: center; vertical-align: top\">0010_105_001</td>\n",
       "        <td style=\"padding-left: 1em; padding-right: 1em; text-align: center; vertical-align: top\">望京区域</td>\n",
       "        <td style=\"padding-left: 1em; padding-right: 1em; text-align: center; vertical-align: top\">116.503079</td>\n",
       "        <td style=\"padding-left: 1em; padding-right: 1em; text-align: center; vertical-align: top\">39.999301</td>\n",
       "        <td style=\"padding-left: 1em; padding-right: 1em; text-align: center; vertical-align: top\">116.440662</td>\n",
       "        <td style=\"padding-left: 1em; padding-right: 1em; text-align: center; vertical-align: top\">39.987544</td>\n",
       "    </tr>\n",
       "    <tr>\n",
       "        <td style=\"padding-left: 1em; padding-right: 1em; text-align: center; vertical-align: top\">110000</td>\n",
       "        <td style=\"padding-left: 1em; padding-right: 1em; text-align: center; vertical-align: top\">0010_105_002</td>\n",
       "        <td style=\"padding-left: 1em; padding-right: 1em; text-align: center; vertical-align: top\">中关村区域</td>\n",
       "        <td style=\"padding-left: 1em; padding-right: 1em; text-align: center; vertical-align: top\">116.317951</td>\n",
       "        <td style=\"padding-left: 1em; padding-right: 1em; text-align: center; vertical-align: top\">39.985662</td>\n",
       "        <td style=\"padding-left: 1em; padding-right: 1em; text-align: center; vertical-align: top\">116.305047</td>\n",
       "        <td style=\"padding-left: 1em; padding-right: 1em; text-align: center; vertical-align: top\">39.975411</td>\n",
       "    </tr>\n",
       "    <tr>\n",
       "        <td style=\"padding-left: 1em; padding-right: 1em; text-align: center; vertical-align: top\">110000</td>\n",
       "        <td style=\"padding-left: 1em; padding-right: 1em; text-align: center; vertical-align: top\">0010_105_003</td>\n",
       "        <td style=\"padding-left: 1em; padding-right: 1em; text-align: center; vertical-align: top\">北京CBD区域</td>\n",
       "        <td style=\"padding-left: 1em; padding-right: 1em; text-align: center; vertical-align: top\">116.49044</td>\n",
       "        <td style=\"padding-left: 1em; padding-right: 1em; text-align: center; vertical-align: top\">39.925039</td>\n",
       "        <td style=\"padding-left: 1em; padding-right: 1em; text-align: center; vertical-align: top\">116.43419</td>\n",
       "        <td style=\"padding-left: 1em; padding-right: 1em; text-align: center; vertical-align: top\">39.907748</td>\n",
       "    </tr>\n",
       "    <tr>\n",
       "        <td style=\"padding-left: 1em; padding-right: 1em; text-align: center; vertical-align: top\">110000</td>\n",
       "        <td style=\"padding-left: 1em; padding-right: 1em; text-align: center; vertical-align: top\">0010_105_004</td>\n",
       "        <td style=\"padding-left: 1em; padding-right: 1em; text-align: center; vertical-align: top\">西单金融街区域</td>\n",
       "        <td style=\"padding-left: 1em; padding-right: 1em; text-align: center; vertical-align: top\">116.374569</td>\n",
       "        <td style=\"padding-left: 1em; padding-right: 1em; text-align: center; vertical-align: top\">39.92415</td>\n",
       "        <td style=\"padding-left: 1em; padding-right: 1em; text-align: center; vertical-align: top\">116.355714</td>\n",
       "        <td style=\"padding-left: 1em; padding-right: 1em; text-align: center; vertical-align: top\">39.906941</td>\n",
       "    </tr>\n",
       "    <tr>\n",
       "        <td style=\"padding-left: 1em; padding-right: 1em; text-align: center; vertical-align: top\">110000</td>\n",
       "        <td style=\"padding-left: 1em; padding-right: 1em; text-align: center; vertical-align: top\">0010_105_005</td>\n",
       "        <td style=\"padding-left: 1em; padding-right: 1em; text-align: center; vertical-align: top\">工体三里屯区域</td>\n",
       "        <td style=\"padding-left: 1em; padding-right: 1em; text-align: center; vertical-align: top\">116.462315</td>\n",
       "        <td style=\"padding-left: 1em; padding-right: 1em; text-align: center; vertical-align: top\">39.941802</td>\n",
       "        <td style=\"padding-left: 1em; padding-right: 1em; text-align: center; vertical-align: top\">116.433189</td>\n",
       "        <td style=\"padding-left: 1em; padding-right: 1em; text-align: center; vertical-align: top\">39.922903</td>\n",
       "    </tr>\n",
       "    <tr>\n",
       "        <td style=\"padding-left: 1em; padding-right: 1em; text-align: center; vertical-align: top\">110000</td>\n",
       "        <td style=\"padding-left: 1em; padding-right: 1em; text-align: center; vertical-align: top\">0010_105_006</td>\n",
       "        <td style=\"padding-left: 1em; padding-right: 1em; text-align: center; vertical-align: top\">东单王府井区域</td>\n",
       "        <td style=\"padding-left: 1em; padding-right: 1em; text-align: center; vertical-align: top\">116.435875</td>\n",
       "        <td style=\"padding-left: 1em; padding-right: 1em; text-align: center; vertical-align: top\">39.924635</td>\n",
       "        <td style=\"padding-left: 1em; padding-right: 1em; text-align: center; vertical-align: top\">116.406065</td>\n",
       "        <td style=\"padding-left: 1em; padding-right: 1em; text-align: center; vertical-align: top\">39.908152</td>\n",
       "    </tr>\n",
       "    <tr>\n",
       "        <td style=\"padding-left: 1em; padding-right: 1em; text-align: center; vertical-align: top\">110000</td>\n",
       "        <td style=\"padding-left: 1em; padding-right: 1em; text-align: center; vertical-align: top\">0010_105_007</td>\n",
       "        <td style=\"padding-left: 1em; padding-right: 1em; text-align: center; vertical-align: top\">东直门区域</td>\n",
       "        <td style=\"padding-left: 1em; padding-right: 1em; text-align: center; vertical-align: top\">116.447498</td>\n",
       "        <td style=\"padding-left: 1em; padding-right: 1em; text-align: center; vertical-align: top\">39.951218</td>\n",
       "        <td style=\"padding-left: 1em; padding-right: 1em; text-align: center; vertical-align: top\">116.416441</td>\n",
       "        <td style=\"padding-left: 1em; padding-right: 1em; text-align: center; vertical-align: top\">39.933241</td>\n",
       "    </tr>\n",
       "    <tr>\n",
       "        <td style=\"padding-left: 1em; padding-right: 1em; text-align: center; vertical-align: top\">110000</td>\n",
       "        <td style=\"padding-left: 1em; padding-right: 1em; text-align: center; vertical-align: top\">0010_105_008</td>\n",
       "        <td style=\"padding-left: 1em; padding-right: 1em; text-align: center; vertical-align: top\">西直门区域</td>\n",
       "        <td style=\"padding-left: 1em; padding-right: 1em; text-align: center; vertical-align: top\">116.37341</td>\n",
       "        <td style=\"padding-left: 1em; padding-right: 1em; text-align: center; vertical-align: top\">39.948227</td>\n",
       "        <td style=\"padding-left: 1em; padding-right: 1em; text-align: center; vertical-align: top\">116.341493</td>\n",
       "        <td style=\"padding-left: 1em; padding-right: 1em; text-align: center; vertical-align: top\">39.931744</td>\n",
       "    </tr>\n",
       "    <tr>\n",
       "        <td style=\"padding-left: 1em; padding-right: 1em; text-align: center; vertical-align: top\">110000</td>\n",
       "        <td style=\"padding-left: 1em; padding-right: 1em; text-align: center; vertical-align: top\">0010_105_009</td>\n",
       "        <td style=\"padding-left: 1em; padding-right: 1em; text-align: center; vertical-align: top\">崇文门区域</td>\n",
       "        <td style=\"padding-left: 1em; padding-right: 1em; text-align: center; vertical-align: top\">116.436086</td>\n",
       "        <td style=\"padding-left: 1em; padding-right: 1em; text-align: center; vertical-align: top\">39.907991</td>\n",
       "        <td style=\"padding-left: 1em; padding-right: 1em; text-align: center; vertical-align: top\">116.411858</td>\n",
       "        <td style=\"padding-left: 1em; padding-right: 1em; text-align: center; vertical-align: top\">39.892235</td>\n",
       "    </tr>\n",
       "</table>\n",
       "[942 rows x 7 columns]<br/>Note: Only the head of the SFrame is printed.<br/>You can use print_rows(num_rows=m, num_columns=n) to print more rows and columns.\n",
       "</div>"
      ],
      "text/plain": [
       "Columns:\n",
       "\tCityCode\tint\n",
       "\tBoardId\tstr\n",
       "\tRoadName\tstr\n",
       "\tStartLon\tfloat\n",
       "\tStartLat\tfloat\n",
       "\tEndLon\tfloat\n",
       "\tEndLat\tfloat\n",
       "\n",
       "Rows: 942\n",
       "\n",
       "Data:\n",
       "+----------+--------------+------------------+------------+-----------+\n",
       "| CityCode |   BoardId    |     RoadName     |  StartLon  |  StartLat |\n",
       "+----------+--------------+------------------+------------+-----------+\n",
       "|  110000  | 0010_103_001 | 北京城市内快速路 | 116.570446 | 40.041606 |\n",
       "|  110000  | 0010_105_001 |     望京区域     | 116.503079 | 39.999301 |\n",
       "|  110000  | 0010_105_002 |    中关村区域    | 116.317951 | 39.985662 |\n",
       "|  110000  | 0010_105_003 |   北京CBD区域    | 116.49044  | 39.925039 |\n",
       "|  110000  | 0010_105_004 |  西单金融街区域  | 116.374569 |  39.92415 |\n",
       "|  110000  | 0010_105_005 |  工体三里屯区域  | 116.462315 | 39.941802 |\n",
       "|  110000  | 0010_105_006 |  东单王府井区域  | 116.435875 | 39.924635 |\n",
       "|  110000  | 0010_105_007 |    东直门区域    | 116.447498 | 39.951218 |\n",
       "|  110000  | 0010_105_008 |    西直门区域    | 116.37341  | 39.948227 |\n",
       "|  110000  | 0010_105_009 |    崇文门区域    | 116.436086 | 39.907991 |\n",
       "+----------+--------------+------------------+------------+-----------+\n",
       "+------------+-----------+\n",
       "|   EndLon   |   EndLat  |\n",
       "+------------+-----------+\n",
       "| 116.175351 | 39.753424 |\n",
       "| 116.440662 | 39.987544 |\n",
       "| 116.305047 | 39.975411 |\n",
       "| 116.43419  | 39.907748 |\n",
       "| 116.355714 | 39.906941 |\n",
       "| 116.433189 | 39.922903 |\n",
       "| 116.406065 | 39.908152 |\n",
       "| 116.416441 | 39.933241 |\n",
       "| 116.341493 | 39.931744 |\n",
       "| 116.411858 | 39.892235 |\n",
       "+------------+-----------+\n",
       "[942 rows x 7 columns]\n",
       "Note: Only the head of the SFrame is printed.\n",
       "You can use print_rows(num_rows=m, num_columns=n) to print more rows and columns."
      ]
     },
     "execution_count": 11,
     "metadata": {},
     "output_type": "execute_result"
    }
   ],
   "source": [
    "sf"
   ]
  },
  {
   "cell_type": "code",
   "execution_count": 12,
   "metadata": {
    "collapsed": false
   },
   "outputs": [
    {
     "data": {
      "text/plain": [
       "<bound method SFrame.head of Columns:\n",
       "\tCityCode\tint\n",
       "\tBoardId\tstr\n",
       "\tRoadName\tstr\n",
       "\tStartLon\tfloat\n",
       "\tStartLat\tfloat\n",
       "\tEndLon\tfloat\n",
       "\tEndLat\tfloat\n",
       "\n",
       "Rows: 942\n",
       "\n",
       "Data:\n",
       "+----------+--------------+------------------+------------+-----------+\n",
       "| CityCode |   BoardId    |     RoadName     |  StartLon  |  StartLat |\n",
       "+----------+--------------+------------------+------------+-----------+\n",
       "|  110000  | 0010_103_001 | 北京城市内快速路 | 116.570446 | 40.041606 |\n",
       "|  110000  | 0010_105_001 |     望京区域     | 116.503079 | 39.999301 |\n",
       "|  110000  | 0010_105_002 |    中关村区域    | 116.317951 | 39.985662 |\n",
       "|  110000  | 0010_105_003 |   北京CBD区域    | 116.49044  | 39.925039 |\n",
       "|  110000  | 0010_105_004 |  西单金融街区域  | 116.374569 |  39.92415 |\n",
       "|  110000  | 0010_105_005 |  工体三里屯区域  | 116.462315 | 39.941802 |\n",
       "|  110000  | 0010_105_006 |  东单王府井区域  | 116.435875 | 39.924635 |\n",
       "|  110000  | 0010_105_007 |    东直门区域    | 116.447498 | 39.951218 |\n",
       "|  110000  | 0010_105_008 |    西直门区域    | 116.37341  | 39.948227 |\n",
       "|  110000  | 0010_105_009 |    崇文门区域    | 116.436086 | 39.907991 |\n",
       "+----------+--------------+------------------+------------+-----------+\n",
       "+------------+-----------+\n",
       "|   EndLon   |   EndLat  |\n",
       "+------------+-----------+\n",
       "| 116.175351 | 39.753424 |\n",
       "| 116.440662 | 39.987544 |\n",
       "| 116.305047 | 39.975411 |\n",
       "| 116.43419  | 39.907748 |\n",
       "| 116.355714 | 39.906941 |\n",
       "| 116.433189 | 39.922903 |\n",
       "| 116.406065 | 39.908152 |\n",
       "| 116.416441 | 39.933241 |\n",
       "| 116.341493 | 39.931744 |\n",
       "| 116.411858 | 39.892235 |\n",
       "+------------+-----------+\n",
       "[942 rows x 7 columns]\n",
       "Note: Only the head of the SFrame is printed.\n",
       "You can use print_rows(num_rows=m, num_columns=n) to print more rows and columns.>"
      ]
     },
     "execution_count": 12,
     "metadata": {},
     "output_type": "execute_result"
    }
   ],
   "source": [
    "sf.head"
   ]
  },
  {
   "cell_type": "code",
   "execution_count": 13,
   "metadata": {
    "collapsed": false
   },
   "outputs": [
    {
     "data": {
      "text/plain": [
       "<bound method SFrame.tail of Columns:\n",
       "\tCityCode\tint\n",
       "\tBoardId\tstr\n",
       "\tRoadName\tstr\n",
       "\tStartLon\tfloat\n",
       "\tStartLat\tfloat\n",
       "\tEndLon\tfloat\n",
       "\tEndLat\tfloat\n",
       "\n",
       "Rows: 942\n",
       "\n",
       "Data:\n",
       "+----------+--------------+------------------+------------+-----------+\n",
       "| CityCode |   BoardId    |     RoadName     |  StartLon  |  StartLat |\n",
       "+----------+--------------+------------------+------------+-----------+\n",
       "|  110000  | 0010_103_001 | 北京城市内快速路 | 116.570446 | 40.041606 |\n",
       "|  110000  | 0010_105_001 |     望京区域     | 116.503079 | 39.999301 |\n",
       "|  110000  | 0010_105_002 |    中关村区域    | 116.317951 | 39.985662 |\n",
       "|  110000  | 0010_105_003 |   北京CBD区域    | 116.49044  | 39.925039 |\n",
       "|  110000  | 0010_105_004 |  西单金融街区域  | 116.374569 |  39.92415 |\n",
       "|  110000  | 0010_105_005 |  工体三里屯区域  | 116.462315 | 39.941802 |\n",
       "|  110000  | 0010_105_006 |  东单王府井区域  | 116.435875 | 39.924635 |\n",
       "|  110000  | 0010_105_007 |    东直门区域    | 116.447498 | 39.951218 |\n",
       "|  110000  | 0010_105_008 |    西直门区域    | 116.37341  | 39.948227 |\n",
       "|  110000  | 0010_105_009 |    崇文门区域    | 116.436086 | 39.907991 |\n",
       "+----------+--------------+------------------+------------+-----------+\n",
       "+------------+-----------+\n",
       "|   EndLon   |   EndLat  |\n",
       "+------------+-----------+\n",
       "| 116.175351 | 39.753424 |\n",
       "| 116.440662 | 39.987544 |\n",
       "| 116.305047 | 39.975411 |\n",
       "| 116.43419  | 39.907748 |\n",
       "| 116.355714 | 39.906941 |\n",
       "| 116.433189 | 39.922903 |\n",
       "| 116.406065 | 39.908152 |\n",
       "| 116.416441 | 39.933241 |\n",
       "| 116.341493 | 39.931744 |\n",
       "| 116.411858 | 39.892235 |\n",
       "+------------+-----------+\n",
       "[942 rows x 7 columns]\n",
       "Note: Only the head of the SFrame is printed.\n",
       "You can use print_rows(num_rows=m, num_columns=n) to print more rows and columns.>"
      ]
     },
     "execution_count": 13,
     "metadata": {},
     "output_type": "execute_result"
    }
   ],
   "source": [
    "sf.tail"
   ]
  },
  {
   "cell_type": "markdown",
   "metadata": {},
   "source": [
    "# GraphLab Canvas"
   ]
  },
  {
   "cell_type": "code",
   "execution_count": 14,
   "metadata": {
    "collapsed": false,
    "scrolled": true
   },
   "outputs": [
    {
     "name": "stdout",
     "output_type": "stream",
     "text": [
      "Canvas is accessible via web browser at the URL: http://localhost:55644/index.html\n",
      "Opening Canvas in default web browser.\n"
     ]
    }
   ],
   "source": [
    "sf.show()"
   ]
  },
  {
   "cell_type": "code",
   "execution_count": 15,
   "metadata": {
    "collapsed": true
   },
   "outputs": [],
   "source": [
    "graphlab.canvas.set_target('ipynb')"
   ]
  },
  {
   "cell_type": "code",
   "execution_count": 19,
   "metadata": {
    "collapsed": false
   },
   "outputs": [
    {
     "data": {
      "application/javascript": [
       "$(\"head\").append($(\"<link/>\").attr({\n",
       "  rel:  \"stylesheet\",\n",
       "  type: \"text/css\",\n",
       "  href: \"//cdnjs.cloudflare.com/ajax/libs/font-awesome/4.1.0/css/font-awesome.min.css\"\n",
       "}));\n",
       "$(\"head\").append($(\"<link/>\").attr({\n",
       "  rel:  \"stylesheet\",\n",
       "  type: \"text/css\",\n",
       "  href: \"https://static.turi.com/products/graphlab-create/2.1/canvas/css/canvas.css\"\n",
       "}));\n",
       "\n",
       "            (function(){\n",
       "\n",
       "                var e = null;\n",
       "                if (typeof element == 'undefined') {\n",
       "                    var scripts = document.getElementsByTagName('script');\n",
       "                    var thisScriptTag = scripts[scripts.length-1];\n",
       "                    var parentDiv = thisScriptTag.parentNode;\n",
       "                    e = document.createElement('div');\n",
       "                    parentDiv.appendChild(e);\n",
       "                } else {\n",
       "                    e = element[0];\n",
       "                }\n",
       "\n",
       "                if (typeof requirejs !== 'undefined') {\n",
       "                    // disable load timeout; ipython_app.js is large and can take a while to load.\n",
       "                    requirejs.config({waitSeconds: 0});\n",
       "                }\n",
       "\n",
       "                require(['https://static.turi.com/products/graphlab-create/2.1/canvas/js/ipython_app.js'], function(IPythonApp){\n",
       "                    var app = new IPythonApp();\n",
       "                    app.attachView('sarray','Categorical', {\"ipython\": true, \"sketch\": {\"std\": 132225.04660852574, \"complete\": true, \"min\": 110000.0, \"max\": 610100.0, \"quantile\": [110000.0, 110000.0, 110000.0, 110000.0, 110000.0, 110000.0, 110000.0, 120000.0, 120000.0, 120000.0, 130100.0, 130100.0, 130100.0, 130200.0, 130200.0, 140100.0, 140100.0, 150100.0, 150100.0, 210100.0, 210100.0, 210200.0, 210200.0, 210200.0, 220100.0, 230100.0, 230100.0, 230100.0, 230100.0, 310000.0, 310000.0, 310000.0, 310000.0, 320100.0, 320100.0, 320100.0, 320200.0, 320200.0, 320500.0, 320500.0, 320500.0, 320500.0, 330100.0, 330100.0, 330200.0, 330200.0, 330300.0, 330300.0, 330400.0, 330400.0, 330700.0, 330700.0, 331000.0, 331000.0, 340100.0, 340100.0, 350100.0, 350100.0, 350200.0, 350200.0, 350500.0, 370100.0, 370100.0, 370100.0, 370200.0, 370200.0, 370200.0, 370200.0, 410100.0, 410100.0, 410100.0, 420100.0, 420100.0, 430100.0, 430100.0, 440100.0, 440100.0, 440100.0, 440300.0, 440300.0, 440400.0, 440600.0, 440600.0, 441900.0, 441900.0, 442000.0, 450100.0, 450100.0, 450100.0, 500000.0, 500000.0, 500000.0, 510100.0, 530100.0, 530100.0, 530100.0, 610100.0, 610100.0, 610100.0, 610100.0, 610100.0], \"median\": 330700.0, \"numeric\": true, \"num_unique\": 40, \"num_undefined\": 0, \"var\": 17483462950.6268, \"progress\": 1.0, \"size\": 942, \"frequent_items\": {\"150100\": {\"frequency\": 21, \"value\": 150100}, \"420100\": {\"frequency\": 25, \"value\": 420100}, \"370200\": {\"frequency\": 33, \"value\": 370200}, \"442000\": {\"frequency\": 13, \"value\": 442000}, \"440600\": {\"frequency\": 14, \"value\": 440600}, \"510100\": {\"frequency\": 17, \"value\": 510100}, \"610100\": {\"frequency\": 45, \"value\": 610100}, \"130200\": {\"frequency\": 15, \"value\": 130200}, \"340100\": {\"frequency\": 21, \"value\": 340100}, \"500000\": {\"frequency\": 25, \"value\": 500000}, \"440100\": {\"frequency\": 27, \"value\": 440100}, \"441900\": {\"frequency\": 19, \"value\": 441900}, \"410100\": {\"frequency\": 27, \"value\": 410100}, \"110000\": {\"frequency\": 63, \"value\": 110000}, \"210100\": {\"frequency\": 22, \"value\": 210100}, \"450100\": {\"frequency\": 24, \"value\": 450100}, \"330300\": {\"frequency\": 16, \"value\": 330300}, \"120000\": {\"frequency\": 30, \"value\": 120000}, \"330400\": {\"frequency\": 24, \"value\": 330400}, \"140100\": {\"frequency\": 19, \"value\": 140100}, \"320200\": {\"frequency\": 21, \"value\": 320200}, \"370100\": {\"frequency\": 27, \"value\": 370100}, \"330700\": {\"frequency\": 18, \"value\": 330700}, \"440400\": {\"frequency\": 10, \"value\": 440400}, \"331000\": {\"frequency\": 20, \"value\": 331000}, \"530100\": {\"frequency\": 22, \"value\": 530100}, \"230100\": {\"frequency\": 29, \"value\": 230100}, \"330200\": {\"frequency\": 15, \"value\": 330200}, \"350500\": {\"frequency\": 16, \"value\": 350500}, \"220100\": {\"frequency\": 18, \"value\": 220100}, \"430100\": {\"frequency\": 17, \"value\": 430100}, \"320100\": {\"frequency\": 22, \"value\": 320100}, \"330100\": {\"frequency\": 23, \"value\": 330100}, \"440300\": {\"frequency\": 23, \"value\": 440300}, \"310000\": {\"frequency\": 46, \"value\": 310000}, \"320500\": {\"frequency\": 37, \"value\": 320500}, \"350200\": {\"frequency\": 18, \"value\": 350200}, \"350100\": {\"frequency\": 13, \"value\": 350100}, \"210200\": {\"frequency\": 23, \"value\": 210200}, \"130100\": {\"frequency\": 24, \"value\": 130100}}, \"mean\": 331469.42675159225}, \"selected_variable\": {\"name\": [\"<SArray>\"], \"dtype\": \"int\", \"view_component\": \"Categorical\", \"view_file\": \"sarray\", \"descriptives\": {\"rows\": 942}, \"type\": \"SArray\", \"view_components\": [\"Numeric\", \"Categorical\"]}, \"histogram\": {\"progress\": 1.0, \"histogram\": {\"max\": 617430.0, \"bins\": [151, 21, 92, 0, 46, 264, 60, 175, 24, 64, 0, 45], \"min\": 103791.59999999998}, \"min\": 110000, \"complete\": 1, \"max\": 610100}}, e);\n",
       "                });\n",
       "            })();\n",
       "        "
      ]
     },
     "metadata": {},
     "output_type": "display_data"
    }
   ],
   "source": [
    "sf['CityCode'].show(view='Categorical')"
   ]
  },
  {
   "cell_type": "markdown",
   "metadata": {},
   "source": [
    "# 操作列数据"
   ]
  },
  {
   "cell_type": "code",
   "execution_count": 17,
   "metadata": {
    "collapsed": false,
    "scrolled": true
   },
   "outputs": [
    {
     "data": {
      "text/plain": [
       "dtype: int\n",
       "Rows: 942\n",
       "[110000, 110000, 110000, 110000, 110000, 110000, 110000, 110000, 110000, 110000, 110000, 110000, 110000, 110000, 110000, 110000, 110000, 110000, 110000, 110000, 110000, 110000, 110000, 110000, 110000, 110000, 110000, 110000, 110000, 110000, 110000, 110000, 110000, 110000, 110000, 110000, 110000, 110000, 110000, 110000, 110000, 110000, 110000, 110000, 110000, 110000, 110000, 110000, 110000, 110000, 110000, 110000, 110000, 110000, 110000, 110000, 110000, 110000, 110000, 110000, 110000, 310000, 310000, 310000, 310000, 310000, 310000, 310000, 310000, 310000, 310000, 310000, 310000, 310000, 310000, 310000, 310000, 310000, 310000, 310000, 310000, 310000, 310000, 310000, 310000, 310000, 310000, 310000, 310000, 310000, 310000, 310000, 310000, 310000, 310000, 310000, 310000, 310000, 310000, 310000, ... ]"
      ]
     },
     "execution_count": 17,
     "metadata": {},
     "output_type": "execute_result"
    }
   ],
   "source": [
    "sf['CityCode']"
   ]
  },
  {
   "cell_type": "code",
   "execution_count": 18,
   "metadata": {
    "collapsed": false,
    "scrolled": false
   },
   "outputs": [
    {
     "data": {
      "text/plain": [
       "dtype: str\n",
       "Rows: 942\n",
       "['0010_103_001', '0010_105_001', '0010_105_002', '0010_105_003', '0010_105_004', '0010_105_005', '0010_105_006', '0010_105_007', '0010_105_008', '0010_105_009', '0010_105_010', '0010_105_011', '0010_105_012', '0010_106_001', '0010_106_002', '0010_106_003', '0010_106_004', '0010_106_005', '0010_106_006', '0010_106_007', '0010_106_008', '0010_106_009', '0010_106_010', '0010_106_011', '0010_106_012', '0010_106_013', '0010_106_014', '0010_106_015', '0010_106_016', '0010_106_017', '0010_106_018', '0010_106_019', '0010_106_020', '0010_106_021', '0010_106_022', '0010_106_023', '0010_106_024', '0010_106_025', '0010_106_026', '0010_106_027', '0010_106_028', '0010_106_029', '0010_106_030', '0010_106_031', '0010_106_032', '0010_106_033', '0010_106_034', '0010_106_035', '0010_106_036', '0010_106_037', '0010_106_038', '0010_106_039', '0010_106_040', '0010_106_041', '0010_106_042', '0010_106_043', '0010_106_044', '0010_106_045', '0010_106_046', '0010_106_047', '0010_106_048', '0021_103_001', '0021_105_001', '0021_105_002', '0021_105_003', '0021_105_004', '0021_105_005', '0021_105_006', '0021_105_007', '0021_105_008', '0021_106_001', '0021_106_002', '0021_106_003', '0021_106_004', '0021_106_005', '0021_106_006', '0021_106_007', '0021_106_008', '0021_106_009', '0021_106_010', '0021_106_011', '0021_106_012', '0021_106_013', '0021_106_014', '0021_106_015', '0021_106_016', '0021_106_017', '0021_106_018', '0021_106_019', '0021_106_020', '0021_106_021', '0021_106_022', '0021_106_023', '0021_106_024', '0021_106_025', '0021_106_026', '0021_106_027', '0021_106_028', '0021_106_029', '0021_106_030', ... ]"
      ]
     },
     "execution_count": 18,
     "metadata": {},
     "output_type": "execute_result"
    }
   ],
   "source": [
    "sf['BoardId']"
   ]
  },
  {
   "cell_type": "code",
   "execution_count": 20,
   "metadata": {
    "collapsed": false
   },
   "outputs": [
    {
     "data": {
      "text/plain": [
       "331469.42675159225"
      ]
     },
     "execution_count": 20,
     "metadata": {},
     "output_type": "execute_result"
    }
   ],
   "source": [
    "sf['CityCode'].mean()"
   ]
  },
  {
   "cell_type": "code",
   "execution_count": 21,
   "metadata": {
    "collapsed": false
   },
   "outputs": [
    {
     "data": {
      "text/plain": [
       "610100"
      ]
     },
     "execution_count": 21,
     "metadata": {},
     "output_type": "execute_result"
    }
   ],
   "source": [
    "sf['CityCode'].max()"
   ]
  },
  {
   "cell_type": "markdown",
   "metadata": {},
   "source": [
    "# 增加新列"
   ]
  },
  {
   "cell_type": "code",
   "execution_count": 36,
   "metadata": {
    "collapsed": false
   },
   "outputs": [],
   "source": [
    "sf['StartLocation'] = str(sf['StartLon']) + ',' + sf['RoadName']"
   ]
  },
  {
   "cell_type": "code",
   "execution_count": 37,
   "metadata": {
    "collapsed": false
   },
   "outputs": [
    {
     "data": {
      "text/html": [
       "<div style=\"max-height:1000px;max-width:1500px;overflow:auto;\"><table frame=\"box\" rules=\"cols\">\n",
       "    <tr>\n",
       "        <th style=\"padding-left: 1em; padding-right: 1em; text-align: center\">CityCode</th>\n",
       "        <th style=\"padding-left: 1em; padding-right: 1em; text-align: center\">BoardId</th>\n",
       "        <th style=\"padding-left: 1em; padding-right: 1em; text-align: center\">RoadName</th>\n",
       "        <th style=\"padding-left: 1em; padding-right: 1em; text-align: center\">StartLon</th>\n",
       "        <th style=\"padding-left: 1em; padding-right: 1em; text-align: center\">StartLat</th>\n",
       "        <th style=\"padding-left: 1em; padding-right: 1em; text-align: center\">EndLon</th>\n",
       "        <th style=\"padding-left: 1em; padding-right: 1em; text-align: center\">EndLat</th>\n",
       "    </tr>\n",
       "    <tr>\n",
       "        <td style=\"padding-left: 1em; padding-right: 1em; text-align: center; vertical-align: top\">110000</td>\n",
       "        <td style=\"padding-left: 1em; padding-right: 1em; text-align: center; vertical-align: top\">0010_103_001</td>\n",
       "        <td style=\"padding-left: 1em; padding-right: 1em; text-align: center; vertical-align: top\">北京城市内快速路</td>\n",
       "        <td style=\"padding-left: 1em; padding-right: 1em; text-align: center; vertical-align: top\">116.570446</td>\n",
       "        <td style=\"padding-left: 1em; padding-right: 1em; text-align: center; vertical-align: top\">40.041606</td>\n",
       "        <td style=\"padding-left: 1em; padding-right: 1em; text-align: center; vertical-align: top\">116.175351</td>\n",
       "        <td style=\"padding-left: 1em; padding-right: 1em; text-align: center; vertical-align: top\">39.753424</td>\n",
       "    </tr>\n",
       "    <tr>\n",
       "        <td style=\"padding-left: 1em; padding-right: 1em; text-align: center; vertical-align: top\">110000</td>\n",
       "        <td style=\"padding-left: 1em; padding-right: 1em; text-align: center; vertical-align: top\">0010_105_001</td>\n",
       "        <td style=\"padding-left: 1em; padding-right: 1em; text-align: center; vertical-align: top\">望京区域</td>\n",
       "        <td style=\"padding-left: 1em; padding-right: 1em; text-align: center; vertical-align: top\">116.503079</td>\n",
       "        <td style=\"padding-left: 1em; padding-right: 1em; text-align: center; vertical-align: top\">39.999301</td>\n",
       "        <td style=\"padding-left: 1em; padding-right: 1em; text-align: center; vertical-align: top\">116.440662</td>\n",
       "        <td style=\"padding-left: 1em; padding-right: 1em; text-align: center; vertical-align: top\">39.987544</td>\n",
       "    </tr>\n",
       "    <tr>\n",
       "        <td style=\"padding-left: 1em; padding-right: 1em; text-align: center; vertical-align: top\">110000</td>\n",
       "        <td style=\"padding-left: 1em; padding-right: 1em; text-align: center; vertical-align: top\">0010_105_002</td>\n",
       "        <td style=\"padding-left: 1em; padding-right: 1em; text-align: center; vertical-align: top\">中关村区域</td>\n",
       "        <td style=\"padding-left: 1em; padding-right: 1em; text-align: center; vertical-align: top\">116.317951</td>\n",
       "        <td style=\"padding-left: 1em; padding-right: 1em; text-align: center; vertical-align: top\">39.985662</td>\n",
       "        <td style=\"padding-left: 1em; padding-right: 1em; text-align: center; vertical-align: top\">116.305047</td>\n",
       "        <td style=\"padding-left: 1em; padding-right: 1em; text-align: center; vertical-align: top\">39.975411</td>\n",
       "    </tr>\n",
       "    <tr>\n",
       "        <td style=\"padding-left: 1em; padding-right: 1em; text-align: center; vertical-align: top\">110000</td>\n",
       "        <td style=\"padding-left: 1em; padding-right: 1em; text-align: center; vertical-align: top\">0010_105_003</td>\n",
       "        <td style=\"padding-left: 1em; padding-right: 1em; text-align: center; vertical-align: top\">北京CBD区域</td>\n",
       "        <td style=\"padding-left: 1em; padding-right: 1em; text-align: center; vertical-align: top\">116.49044</td>\n",
       "        <td style=\"padding-left: 1em; padding-right: 1em; text-align: center; vertical-align: top\">39.925039</td>\n",
       "        <td style=\"padding-left: 1em; padding-right: 1em; text-align: center; vertical-align: top\">116.43419</td>\n",
       "        <td style=\"padding-left: 1em; padding-right: 1em; text-align: center; vertical-align: top\">39.907748</td>\n",
       "    </tr>\n",
       "    <tr>\n",
       "        <td style=\"padding-left: 1em; padding-right: 1em; text-align: center; vertical-align: top\">110000</td>\n",
       "        <td style=\"padding-left: 1em; padding-right: 1em; text-align: center; vertical-align: top\">0010_105_004</td>\n",
       "        <td style=\"padding-left: 1em; padding-right: 1em; text-align: center; vertical-align: top\">西单金融街区域</td>\n",
       "        <td style=\"padding-left: 1em; padding-right: 1em; text-align: center; vertical-align: top\">116.374569</td>\n",
       "        <td style=\"padding-left: 1em; padding-right: 1em; text-align: center; vertical-align: top\">39.92415</td>\n",
       "        <td style=\"padding-left: 1em; padding-right: 1em; text-align: center; vertical-align: top\">116.355714</td>\n",
       "        <td style=\"padding-left: 1em; padding-right: 1em; text-align: center; vertical-align: top\">39.906941</td>\n",
       "    </tr>\n",
       "    <tr>\n",
       "        <td style=\"padding-left: 1em; padding-right: 1em; text-align: center; vertical-align: top\">110000</td>\n",
       "        <td style=\"padding-left: 1em; padding-right: 1em; text-align: center; vertical-align: top\">0010_105_005</td>\n",
       "        <td style=\"padding-left: 1em; padding-right: 1em; text-align: center; vertical-align: top\">工体三里屯区域</td>\n",
       "        <td style=\"padding-left: 1em; padding-right: 1em; text-align: center; vertical-align: top\">116.462315</td>\n",
       "        <td style=\"padding-left: 1em; padding-right: 1em; text-align: center; vertical-align: top\">39.941802</td>\n",
       "        <td style=\"padding-left: 1em; padding-right: 1em; text-align: center; vertical-align: top\">116.433189</td>\n",
       "        <td style=\"padding-left: 1em; padding-right: 1em; text-align: center; vertical-align: top\">39.922903</td>\n",
       "    </tr>\n",
       "    <tr>\n",
       "        <td style=\"padding-left: 1em; padding-right: 1em; text-align: center; vertical-align: top\">110000</td>\n",
       "        <td style=\"padding-left: 1em; padding-right: 1em; text-align: center; vertical-align: top\">0010_105_006</td>\n",
       "        <td style=\"padding-left: 1em; padding-right: 1em; text-align: center; vertical-align: top\">东单王府井区域</td>\n",
       "        <td style=\"padding-left: 1em; padding-right: 1em; text-align: center; vertical-align: top\">116.435875</td>\n",
       "        <td style=\"padding-left: 1em; padding-right: 1em; text-align: center; vertical-align: top\">39.924635</td>\n",
       "        <td style=\"padding-left: 1em; padding-right: 1em; text-align: center; vertical-align: top\">116.406065</td>\n",
       "        <td style=\"padding-left: 1em; padding-right: 1em; text-align: center; vertical-align: top\">39.908152</td>\n",
       "    </tr>\n",
       "    <tr>\n",
       "        <td style=\"padding-left: 1em; padding-right: 1em; text-align: center; vertical-align: top\">110000</td>\n",
       "        <td style=\"padding-left: 1em; padding-right: 1em; text-align: center; vertical-align: top\">0010_105_007</td>\n",
       "        <td style=\"padding-left: 1em; padding-right: 1em; text-align: center; vertical-align: top\">东直门区域</td>\n",
       "        <td style=\"padding-left: 1em; padding-right: 1em; text-align: center; vertical-align: top\">116.447498</td>\n",
       "        <td style=\"padding-left: 1em; padding-right: 1em; text-align: center; vertical-align: top\">39.951218</td>\n",
       "        <td style=\"padding-left: 1em; padding-right: 1em; text-align: center; vertical-align: top\">116.416441</td>\n",
       "        <td style=\"padding-left: 1em; padding-right: 1em; text-align: center; vertical-align: top\">39.933241</td>\n",
       "    </tr>\n",
       "    <tr>\n",
       "        <td style=\"padding-left: 1em; padding-right: 1em; text-align: center; vertical-align: top\">110000</td>\n",
       "        <td style=\"padding-left: 1em; padding-right: 1em; text-align: center; vertical-align: top\">0010_105_008</td>\n",
       "        <td style=\"padding-left: 1em; padding-right: 1em; text-align: center; vertical-align: top\">西直门区域</td>\n",
       "        <td style=\"padding-left: 1em; padding-right: 1em; text-align: center; vertical-align: top\">116.37341</td>\n",
       "        <td style=\"padding-left: 1em; padding-right: 1em; text-align: center; vertical-align: top\">39.948227</td>\n",
       "        <td style=\"padding-left: 1em; padding-right: 1em; text-align: center; vertical-align: top\">116.341493</td>\n",
       "        <td style=\"padding-left: 1em; padding-right: 1em; text-align: center; vertical-align: top\">39.931744</td>\n",
       "    </tr>\n",
       "    <tr>\n",
       "        <td style=\"padding-left: 1em; padding-right: 1em; text-align: center; vertical-align: top\">110000</td>\n",
       "        <td style=\"padding-left: 1em; padding-right: 1em; text-align: center; vertical-align: top\">0010_105_009</td>\n",
       "        <td style=\"padding-left: 1em; padding-right: 1em; text-align: center; vertical-align: top\">崇文门区域</td>\n",
       "        <td style=\"padding-left: 1em; padding-right: 1em; text-align: center; vertical-align: top\">116.436086</td>\n",
       "        <td style=\"padding-left: 1em; padding-right: 1em; text-align: center; vertical-align: top\">39.907991</td>\n",
       "        <td style=\"padding-left: 1em; padding-right: 1em; text-align: center; vertical-align: top\">116.411858</td>\n",
       "        <td style=\"padding-left: 1em; padding-right: 1em; text-align: center; vertical-align: top\">39.892235</td>\n",
       "    </tr>\n",
       "</table>\n",
       "<table frame=\"box\" rules=\"cols\">\n",
       "    <tr>\n",
       "        <th style=\"padding-left: 1em; padding-right: 1em; text-align: center\">StartLocation</th>\n",
       "    </tr>\n",
       "    <tr>\n",
       "        <td style=\"padding-left: 1em; padding-right: 1em; text-align: center; vertical-align: top\">[116.570446, 116.503079,<br>116.317951, 116.49044, ...</td>\n",
       "    </tr>\n",
       "    <tr>\n",
       "        <td style=\"padding-left: 1em; padding-right: 1em; text-align: center; vertical-align: top\">[116.570446, 116.503079,<br>116.317951, 116.49044, ...</td>\n",
       "    </tr>\n",
       "    <tr>\n",
       "        <td style=\"padding-left: 1em; padding-right: 1em; text-align: center; vertical-align: top\">[116.570446, 116.503079,<br>116.317951, 116.49044, ...</td>\n",
       "    </tr>\n",
       "    <tr>\n",
       "        <td style=\"padding-left: 1em; padding-right: 1em; text-align: center; vertical-align: top\">[116.570446, 116.503079,<br>116.317951, 116.49044, ...</td>\n",
       "    </tr>\n",
       "    <tr>\n",
       "        <td style=\"padding-left: 1em; padding-right: 1em; text-align: center; vertical-align: top\">[116.570446, 116.503079,<br>116.317951, 116.49044, ...</td>\n",
       "    </tr>\n",
       "    <tr>\n",
       "        <td style=\"padding-left: 1em; padding-right: 1em; text-align: center; vertical-align: top\">[116.570446, 116.503079,<br>116.317951, 116.49044, ...</td>\n",
       "    </tr>\n",
       "    <tr>\n",
       "        <td style=\"padding-left: 1em; padding-right: 1em; text-align: center; vertical-align: top\">[116.570446, 116.503079,<br>116.317951, 116.49044, ...</td>\n",
       "    </tr>\n",
       "    <tr>\n",
       "        <td style=\"padding-left: 1em; padding-right: 1em; text-align: center; vertical-align: top\">[116.570446, 116.503079,<br>116.317951, 116.49044, ...</td>\n",
       "    </tr>\n",
       "    <tr>\n",
       "        <td style=\"padding-left: 1em; padding-right: 1em; text-align: center; vertical-align: top\">[116.570446, 116.503079,<br>116.317951, 116.49044, ...</td>\n",
       "    </tr>\n",
       "    <tr>\n",
       "        <td style=\"padding-left: 1em; padding-right: 1em; text-align: center; vertical-align: top\">[116.570446, 116.503079,<br>116.317951, 116.49044, ...</td>\n",
       "    </tr>\n",
       "</table>\n",
       "[942 rows x 8 columns]<br/>Note: Only the head of the SFrame is printed.<br/>You can use print_rows(num_rows=m, num_columns=n) to print more rows and columns.\n",
       "</div>"
      ],
      "text/plain": [
       "Columns:\n",
       "\tCityCode\tint\n",
       "\tBoardId\tstr\n",
       "\tRoadName\tstr\n",
       "\tStartLon\tfloat\n",
       "\tStartLat\tfloat\n",
       "\tEndLon\tfloat\n",
       "\tEndLat\tfloat\n",
       "\tStartLocation\tstr\n",
       "\n",
       "Rows: 942\n",
       "\n",
       "Data:\n",
       "+----------+--------------+------------------+------------+-----------+\n",
       "| CityCode |   BoardId    |     RoadName     |  StartLon  |  StartLat |\n",
       "+----------+--------------+------------------+------------+-----------+\n",
       "|  110000  | 0010_103_001 | 北京城市内快速路 | 116.570446 | 40.041606 |\n",
       "|  110000  | 0010_105_001 |     望京区域     | 116.503079 | 39.999301 |\n",
       "|  110000  | 0010_105_002 |    中关村区域    | 116.317951 | 39.985662 |\n",
       "|  110000  | 0010_105_003 |   北京CBD区域    | 116.49044  | 39.925039 |\n",
       "|  110000  | 0010_105_004 |  西单金融街区域  | 116.374569 |  39.92415 |\n",
       "|  110000  | 0010_105_005 |  工体三里屯区域  | 116.462315 | 39.941802 |\n",
       "|  110000  | 0010_105_006 |  东单王府井区域  | 116.435875 | 39.924635 |\n",
       "|  110000  | 0010_105_007 |    东直门区域    | 116.447498 | 39.951218 |\n",
       "|  110000  | 0010_105_008 |    西直门区域    | 116.37341  | 39.948227 |\n",
       "|  110000  | 0010_105_009 |    崇文门区域    | 116.436086 | 39.907991 |\n",
       "+----------+--------------+------------------+------------+-----------+\n",
       "+------------+-----------+-------------------------------+\n",
       "|   EndLon   |   EndLat  |         StartLocation         |\n",
       "+------------+-----------+-------------------------------+\n",
       "| 116.175351 | 39.753424 | [116.570446, 116.503079, 1... |\n",
       "| 116.440662 | 39.987544 | [116.570446, 116.503079, 1... |\n",
       "| 116.305047 | 39.975411 | [116.570446, 116.503079, 1... |\n",
       "| 116.43419  | 39.907748 | [116.570446, 116.503079, 1... |\n",
       "| 116.355714 | 39.906941 | [116.570446, 116.503079, 1... |\n",
       "| 116.433189 | 39.922903 | [116.570446, 116.503079, 1... |\n",
       "| 116.406065 | 39.908152 | [116.570446, 116.503079, 1... |\n",
       "| 116.416441 | 39.933241 | [116.570446, 116.503079, 1... |\n",
       "| 116.341493 | 39.931744 | [116.570446, 116.503079, 1... |\n",
       "| 116.411858 | 39.892235 | [116.570446, 116.503079, 1... |\n",
       "+------------+-----------+-------------------------------+\n",
       "[942 rows x 8 columns]\n",
       "Note: Only the head of the SFrame is printed.\n",
       "You can use print_rows(num_rows=m, num_columns=n) to print more rows and columns."
      ]
     },
     "execution_count": 37,
     "metadata": {},
     "output_type": "execute_result"
    }
   ],
   "source": [
    "sf"
   ]
  },
  {
   "cell_type": "code",
   "execution_count": 38,
   "metadata": {
    "collapsed": false
   },
   "outputs": [
    {
     "data": {
      "text/plain": [
       "dtype: int\n",
       "Rows: 942\n",
       "[110002, 110002, 110002, 110002, 110002, 110002, 110002, 110002, 110002, 110002, 110002, 110002, 110002, 110002, 110002, 110002, 110002, 110002, 110002, 110002, 110002, 110002, 110002, 110002, 110002, 110002, 110002, 110002, 110002, 110002, 110002, 110002, 110002, 110002, 110002, 110002, 110002, 110002, 110002, 110002, 110002, 110002, 110002, 110002, 110002, 110002, 110002, 110002, 110002, 110002, 110002, 110002, 110002, 110002, 110002, 110002, 110002, 110002, 110002, 110002, 110002, 310002, 310002, 310002, 310002, 310002, 310002, 310002, 310002, 310002, 310002, 310002, 310002, 310002, 310002, 310002, 310002, 310002, 310002, 310002, 310002, 310002, 310002, 310002, 310002, 310002, 310002, 310002, 310002, 310002, 310002, 310002, 310002, 310002, 310002, 310002, 310002, 310002, 310002, 310002, ... ]"
      ]
     },
     "execution_count": 38,
     "metadata": {},
     "output_type": "execute_result"
    }
   ],
   "source": [
    "sf['CityCode'] +2"
   ]
  },
  {
   "cell_type": "code",
   "execution_count": 39,
   "metadata": {
    "collapsed": false
   },
   "outputs": [
    {
     "data": {
      "text/plain": [
       "dtype: int\n",
       "Rows: 942\n",
       "[12100000000, 12100000000, 12100000000, 12100000000, 12100000000, 12100000000, 12100000000, 12100000000, 12100000000, 12100000000, 12100000000, 12100000000, 12100000000, 12100000000, 12100000000, 12100000000, 12100000000, 12100000000, 12100000000, 12100000000, 12100000000, 12100000000, 12100000000, 12100000000, 12100000000, 12100000000, 12100000000, 12100000000, 12100000000, 12100000000, 12100000000, 12100000000, 12100000000, 12100000000, 12100000000, 12100000000, 12100000000, 12100000000, 12100000000, 12100000000, 12100000000, 12100000000, 12100000000, 12100000000, 12100000000, 12100000000, 12100000000, 12100000000, 12100000000, 12100000000, 12100000000, 12100000000, 12100000000, 12100000000, 12100000000, 12100000000, 12100000000, 12100000000, 12100000000, 12100000000, 12100000000, 96100000000, 96100000000, 96100000000, 96100000000, 96100000000, 96100000000, 96100000000, 96100000000, 96100000000, 96100000000, 96100000000, 96100000000, 96100000000, 96100000000, 96100000000, 96100000000, 96100000000, 96100000000, 96100000000, 96100000000, 96100000000, 96100000000, 96100000000, 96100000000, 96100000000, 96100000000, 96100000000, 96100000000, 96100000000, 96100000000, 96100000000, 96100000000, 96100000000, 96100000000, 96100000000, 96100000000, 96100000000, 96100000000, 96100000000, ... ]"
      ]
     },
     "execution_count": 39,
     "metadata": {},
     "output_type": "execute_result"
    }
   ],
   "source": [
    "sf['CityCode'] * sf['CityCode']"
   ]
  },
  {
   "cell_type": "markdown",
   "metadata": {},
   "source": [
    "# 应用apply函数来转换数据"
   ]
  },
  {
   "cell_type": "code",
   "execution_count": null,
   "metadata": {
    "collapsed": true
   },
   "outputs": [],
   "source": []
  }
 ],
 "metadata": {
  "kernelspec": {
   "display_name": "Python 2",
   "language": "python",
   "name": "python2"
  },
  "language_info": {
   "codemirror_mode": {
    "name": "ipython",
    "version": 2
   },
   "file_extension": ".py",
   "mimetype": "text/x-python",
   "name": "python",
   "nbconvert_exporter": "python",
   "pygments_lexer": "ipython2",
   "version": "2.7.11"
  }
 },
 "nbformat": 4,
 "nbformat_minor": 0
}
